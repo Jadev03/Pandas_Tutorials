{
  "nbformat": 4,
  "nbformat_minor": 0,
  "metadata": {
    "colab": {
      "provenance": [],
      "authorship_tag": "ABX9TyNsTH0pd6/33VpfE0viaSpK",
      "include_colab_link": true
    },
    "kernelspec": {
      "name": "python3",
      "display_name": "Python 3"
    },
    "language_info": {
      "name": "python"
    }
  },
  "cells": [
    {
      "cell_type": "markdown",
      "metadata": {
        "id": "view-in-github",
        "colab_type": "text"
      },
      "source": [
        "<a href=\"https://colab.research.google.com/github/Jadev03/Pandas_Tutorials/blob/main/LearnPandas.ipynb\" target=\"_parent\"><img src=\"https://colab.research.google.com/assets/colab-badge.svg\" alt=\"Open In Colab\"/></a>"
      ]
    },
    {
      "cell_type": "code",
      "execution_count": null,
      "metadata": {
        "id": "kwS3FdV-LFUr"
      },
      "outputs": [],
      "source": [
        "import pandas as pd\n",
        "df=pd.read_csv('https://raw.githubusercontent.com/codebasics/py/refs/heads/master/pandas/1_intro/nyc_weather.csv')\n",
        "#view data frame object value\n",
        "df"
      ]
    },
    {
      "cell_type": "code",
      "source": [
        "# data frame object functionality\n",
        "df['Temperature']\n",
        "float(df['Temperature'].mean())\n"
      ],
      "metadata": {
        "colab": {
          "base_uri": "https://localhost:8080/"
        },
        "id": "7OMzR3erRZfk",
        "outputId": "76a431db-59a6-4abf-a295-c3417fcd3e21"
      },
      "execution_count": 11,
      "outputs": [
        {
          "output_type": "execute_result",
          "data": {
            "text/plain": [
              "34.67741935483871"
            ]
          },
          "metadata": {},
          "execution_count": 11
        }
      ]
    },
    {
      "cell_type": "code",
      "source": [],
      "metadata": {
        "id": "P-dp7h8IUtji"
      },
      "execution_count": null,
      "outputs": []
    }
  ]
}